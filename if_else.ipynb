{
 "cells": [
  {
   "cell_type": "code",
   "execution_count": 1,
   "metadata": {},
   "outputs": [
    {
     "name": "stdout",
     "output_type": "stream",
     "text": [
      "positive\n"
     ]
    }
   ],
   "source": [
    "#1 WAP to check whether a number is positive or negative.\n",
    "# If Positive print positive message or else print Negative Number. \n",
    "n=10\n",
    "if n>0:\n",
    "    print(\"positive\")\n",
    "else:\n",
    "    print(\"negative\")"
   ]
  },
  {
   "cell_type": "code",
   "execution_count": 2,
   "metadata": {},
   "outputs": [
    {
     "name": "stdout",
     "output_type": "stream",
     "text": [
      "even\n"
     ]
    }
   ],
   "source": [
    "#2 WAP to check whether a number is even or odd.\n",
    "# If even, print message an even or else print message as odd.\n",
    "n=10\n",
    "if n%2==0:\n",
    "    print(\"even\")\n",
    "else:\n",
    "    print(\"odd\")"
   ]
  },
  {
   "cell_type": "code",
   "execution_count": 3,
   "metadata": {},
   "outputs": [
    {
     "name": "stdout",
     "output_type": "stream",
     "text": [
      "n is not greate than\n"
     ]
    }
   ],
   "source": [
    "#3 WAP to check whether a given number is greater than 10 or not.\n",
    "# if it is greater than 10 print message as greater or else print that number with not a greater than. \n",
    "n=5\n",
    "if n>10:\n",
    "    print(\"n is greater than 10\")\n",
    "else:\n",
    "    print(\"n is not greate than\")"
   ]
  },
  {
   "cell_type": "code",
   "execution_count": 5,
   "metadata": {},
   "outputs": [
    {
     "name": "stdout",
     "output_type": "stream",
     "text": [
      "good morning\n"
     ]
    }
   ],
   "source": [
    "#4 WAP to check whether the given two input numbers are divisible by 3 and 5. \n",
    "#If it is divisible, print “Good Morning”, if it is not divisible print “Good Evening”. \n",
    "n=15\n",
    "m=30\n",
    "if n%3==0 and n%5==0:\n",
    "    print(\"good morning\")\n",
    "else:\n",
    "    print(\"good evening\")"
   ]
  },
  {
   "cell_type": "code",
   "execution_count": 6,
   "metadata": {},
   "outputs": [
    {
     "name": "stdout",
     "output_type": "stream",
     "text": [
      "625\n"
     ]
    }
   ],
   "source": [
    "#5 WAP to accept two integers and check whether those two values are equal or not. \n",
    "#If equal, multiply to value or else to display the quotation value.\n",
    "n=25\n",
    "m=25\n",
    "if n==m:\n",
    "    print(n*m)\n",
    "else:\n",
    "    print(\"quotation value\")"
   ]
  },
  {
   "cell_type": "code",
   "execution_count": 8,
   "metadata": {},
   "outputs": [
    {
     "name": "stdout",
     "output_type": "stream",
     "text": [
      "12 is greater\n"
     ]
    }
   ],
   "source": [
    "#6 WAP to find the largest of two numbers. \n",
    "n=12\n",
    "m=11\n",
    "if n>m:\n",
    "    print(n,'is greater')\n",
    "else:\n",
    "    print(m,'is greater')"
   ]
  },
  {
   "cell_type": "code",
   "execution_count": 9,
   "metadata": {},
   "outputs": [
    {
     "name": "stdout",
     "output_type": "stream",
     "text": [
      "9 not a gtreater than 10\n"
     ]
    }
   ],
   "source": [
    "#7 WAP to check whether the input number is greater than 10 or not \n",
    "#if it is greater than 10 print messages as greater with number. if it is not a greater than 10 print that number. \n",
    "n=int(input())\n",
    "if n>10:\n",
    "    print(n,'gtreater than  10')\n",
    "else:\n",
    "    print(n,'not a gtreater than 10')"
   ]
  },
  {
   "cell_type": "code",
   "execution_count": 10,
   "metadata": {},
   "outputs": [
    {
     "name": "stdout",
     "output_type": "stream",
     "text": [
      "22\n"
     ]
    }
   ],
   "source": [
    "#8 WAP to the given number integer,\n",
    "# if n is greater than 21,print the absolute difference between n and 21 otherwise print twice the absolute difference. \n",
    "n=10\n",
    "if n>21\n",
    "    m=abs(n-21)\n",
    "    print(m)\n",
    "else:\n",
    "    print(abs(n-21)*2)"
   ]
  },
  {
   "cell_type": "code",
   "execution_count": 13,
   "metadata": {},
   "outputs": [
    {
     "name": "stdout",
     "output_type": "stream",
     "text": [
      "10 lessthan\n"
     ]
    }
   ],
   "source": [
    "#9 WAP to find the smallest of two numbers. \n",
    "\n",
    "n=10\n",
    "m=20\n",
    "if n<m:\n",
    "    print(n,'lessthan')\n",
    "else:\n",
    "    print(n,'lessthan')"
   ]
  },
  {
   "cell_type": "code",
   "execution_count": 15,
   "metadata": {},
   "outputs": [
    {
     "name": "stdout",
     "output_type": "stream",
     "text": [
      "27\n"
     ]
    }
   ],
   "source": [
    "#10 WAP to check whether the given number is even or odd.\n",
    "#If it is even then make it as an add number, if it is an odd number then make it as even number.\n",
    "n=26\n",
    "if n%2==0:\n",
    "    print(n+1)\n",
    "else:\n",
    "    print(n-1)"
   ]
  },
  {
   "cell_type": "code",
   "execution_count": 27,
   "metadata": {},
   "outputs": [
    {
     "name": "stdout",
     "output_type": "stream",
     "text": [
      "12\n"
     ]
    }
   ],
   "source": [
    "#11 WAP to check whether the given number is divisible by 3 or not \n",
    "#if yes, print the number or else print the cube of the numbers.\n",
    "n=12\n",
    "if n%3==0:\n",
    "    print(n)\n",
    "else:\n",
    "    print(n*3)"
   ]
  },
  {
   "cell_type": "code",
   "execution_count": 28,
   "metadata": {},
   "outputs": [
    {
     "name": "stdout",
     "output_type": "stream",
     "text": [
      "15\n"
     ]
    }
   ],
   "source": [
    "#12 WAP to check whether the given input is divisible by 3 and 5.\n",
    "# If yes print the actual number or else print string of that number.  \n",
    "n=int(input())\n",
    "if n%3==0 and n%5==0:\n",
    "    print(n)\n",
    "else:\n",
    "    print(str(n))"
   ]
  },
  {
   "cell_type": "code",
   "execution_count": 29,
   "metadata": {},
   "outputs": [
    {
     "name": "stdout",
     "output_type": "stream",
     "text": [
      "10\n"
     ]
    }
   ],
   "source": [
    "#13 WAP to check whether the given number lies between 1 to 19, \n",
    "#if it is true square that number or else false cube that number  and display the number. \n",
    "n=5\n",
    "if n>1 and n<19:\n",
    "    print(n*2)\n",
    "else:\n",
    "    print(n*3)"
   ]
  },
  {
   "cell_type": "code",
   "execution_count": 31,
   "metadata": {},
   "outputs": [
    {
     "name": "stdout",
     "output_type": "stream",
     "text": [
      "40 passed\n"
     ]
    }
   ],
   "source": [
    "#14 WAP to check whether the student has passed or failed. \n",
    "#If the student got more than 40 marks, print ‘PASS’ along with those marks,\n",
    "# if it is not printed ‘FAIL’ along with those marks.\n",
    "n=40\n",
    "m=42\n",
    "if m>n:\n",
    "    print(n,'passed')\n",
    "else:\n",
    "    print(m,'failed')"
   ]
  },
  {
   "cell_type": "code",
   "execution_count": null,
   "metadata": {},
   "outputs": [],
   "source": []
  }
 ],
 "metadata": {
  "kernelspec": {
   "display_name": "Python 3",
   "language": "python",
   "name": "python3"
  },
  "language_info": {
   "codemirror_mode": {
    "name": "ipython",
    "version": 3
   },
   "file_extension": ".py",
   "mimetype": "text/x-python",
   "name": "python",
   "nbconvert_exporter": "python",
   "pygments_lexer": "ipython3",
   "version": "3.11.4"
  },
  "orig_nbformat": 4
 },
 "nbformat": 4,
 "nbformat_minor": 2
}
