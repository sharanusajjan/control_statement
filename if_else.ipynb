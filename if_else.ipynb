{
 "cells": [
  {
   "cell_type": "code",
   "execution_count": 107,
   "metadata": {},
   "outputs": [
    {
     "name": "stdout",
     "output_type": "stream",
     "text": [
      "positive\n"
     ]
    }
   ],
   "source": [
    "#1 WAP to check whether a number is positive or negative.\n",
    "# If Positive print positive message or else print Negative Number. \n",
    "n=10\n",
    "if n>0:\n",
    "    print(\"positive\")\n",
    "else:\n",
    "    print(\"negative\")"
   ]
  },
  {
   "cell_type": "code",
   "execution_count": 108,
   "metadata": {},
   "outputs": [
    {
     "name": "stdout",
     "output_type": "stream",
     "text": [
      "even\n"
     ]
    }
   ],
   "source": [
    "#2 WAP to check whether a number is even or odd.\n",
    "# If even, print message an even or else print message as odd.\n",
    "n=10\n",
    "if n%2==0:\n",
    "    print(\"even\")\n",
    "else:\n",
    "    print(\"odd\")"
   ]
  },
  {
   "cell_type": "code",
   "execution_count": 109,
   "metadata": {},
   "outputs": [
    {
     "name": "stdout",
     "output_type": "stream",
     "text": [
      "n is not greate than\n"
     ]
    }
   ],
   "source": [
    "#3 WAP to check whether a given number is greater than 10 or not.\n",
    "# if it is greater than 10 print message as greater or else print that number with not a greater than. \n",
    "n=5\n",
    "if n>10:\n",
    "    print(\"n is greater than 10\")\n",
    "else:\n",
    "    print(\"n is not greate than\")"
   ]
  },
  {
   "cell_type": "code",
   "execution_count": 110,
   "metadata": {},
   "outputs": [
    {
     "name": "stdout",
     "output_type": "stream",
     "text": [
      "good morning\n"
     ]
    }
   ],
   "source": [
    "#4 WAP to check whether the given two input numbers are divisible by 3 and 5. \n",
    "#If it is divisible, print “Good Morning”, if it is not divisible print “Good Evening”. \n",
    "n=15\n",
    "m=30\n",
    "if n%3==0 and n%5==0:\n",
    "    print(\"good morning\")\n",
    "else:\n",
    "    print(\"good evening\")"
   ]
  },
  {
   "cell_type": "code",
   "execution_count": 111,
   "metadata": {},
   "outputs": [
    {
     "name": "stdout",
     "output_type": "stream",
     "text": [
      "625\n"
     ]
    }
   ],
   "source": [
    "#5 WAP to accept two integers and check whether those two values are equal or not. \n",
    "#If equal, multiply to value or else to display the quotation value.\n",
    "n=25\n",
    "m=25\n",
    "if n==m:\n",
    "    print(n*m)\n",
    "else:\n",
    "    print(\"quotation value\")"
   ]
  },
  {
   "cell_type": "code",
   "execution_count": 112,
   "metadata": {},
   "outputs": [
    {
     "name": "stdout",
     "output_type": "stream",
     "text": [
      "12 is greater\n"
     ]
    }
   ],
   "source": [
    "#6 WAP to find the largest of two numbers. \n",
    "n=12\n",
    "m=11\n",
    "if n>m:\n",
    "    print(n,'is greater')\n",
    "else:\n",
    "    print(m,'is greater')"
   ]
  },
  {
   "cell_type": "code",
   "execution_count": 113,
   "metadata": {},
   "outputs": [
    {
     "name": "stdout",
     "output_type": "stream",
     "text": [
      "12 gtreater than  10\n"
     ]
    }
   ],
   "source": [
    "#7 WAP to check whether the input number is greater than 10 or not \n",
    "#if it is greater than 10 print messages as greater with number. if it is not a greater than 10 print that number. \n",
    "n=int(input())\n",
    "if n>10:\n",
    "    print(n,'gtreater than  10')\n",
    "else:\n",
    "    print(n,'not a gtreater than 10')"
   ]
  },
  {
   "cell_type": "code",
   "execution_count": 114,
   "metadata": {},
   "outputs": [
    {
     "name": "stdout",
     "output_type": "stream",
     "text": [
      "22\n"
     ]
    }
   ],
   "source": [
    "#8 WAP to the given number integer,\n",
    "# if n is greater than 21,print the absolute difference between n and 21 otherwise print twice the absolute difference. \n",
    "n=10\n",
    "if n>21:\n",
    "    m=abs(n-21)\n",
    "    print(m)\n",
    "else:\n",
    "    print(abs(n-21)*2)"
   ]
  },
  {
   "cell_type": "code",
   "execution_count": 115,
   "metadata": {},
   "outputs": [
    {
     "name": "stdout",
     "output_type": "stream",
     "text": [
      "10 lessthan\n"
     ]
    }
   ],
   "source": [
    "#9 WAP to find the smallest of two numbers. \n",
    "\n",
    "n=10\n",
    "m=20\n",
    "if n<m:\n",
    "    print(n,'lessthan')\n",
    "else:\n",
    "    print(n,'lessthan')"
   ]
  },
  {
   "cell_type": "code",
   "execution_count": 116,
   "metadata": {},
   "outputs": [
    {
     "name": "stdout",
     "output_type": "stream",
     "text": [
      "27\n"
     ]
    }
   ],
   "source": [
    "#10 WAP to check whether the given number is even or odd.\n",
    "#If it is even then make it as an add number, if it is an odd number then make it as even number.\n",
    "n=26\n",
    "if n%2==0:\n",
    "    print(n+1)\n",
    "else:\n",
    "    print(n-1)"
   ]
  },
  {
   "cell_type": "code",
   "execution_count": 117,
   "metadata": {},
   "outputs": [
    {
     "name": "stdout",
     "output_type": "stream",
     "text": [
      "12\n"
     ]
    }
   ],
   "source": [
    "#11 WAP to check whether the given number is divisible by 3 or not \n",
    "#if yes, print the number or else print the cube of the numbers.\n",
    "n=12\n",
    "if n%3==0:\n",
    "    print(n)\n",
    "else:\n",
    "    print(n*3)"
   ]
  },
  {
   "cell_type": "code",
   "execution_count": 118,
   "metadata": {},
   "outputs": [
    {
     "name": "stdout",
     "output_type": "stream",
     "text": [
      "12\n"
     ]
    }
   ],
   "source": [
    "#12 WAP to check whether the given input is divisible by 3 and 5.\n",
    "# If yes print the actual number or else print string of that number.  \n",
    "n=int(input())\n",
    "if n%3==0 and n%5==0:\n",
    "    print(n)\n",
    "else:\n",
    "    print(str(n))"
   ]
  },
  {
   "cell_type": "code",
   "execution_count": 119,
   "metadata": {},
   "outputs": [
    {
     "name": "stdout",
     "output_type": "stream",
     "text": [
      "10\n"
     ]
    }
   ],
   "source": [
    "#13 WAP to check whether the given number lies between 1 to 19, \n",
    "#if it is true square that number or else false cube that number  and display the number. \n",
    "n=5\n",
    "if n>1 and n<19:\n",
    "    print(n*2)\n",
    "else:\n",
    "    print(n*3)"
   ]
  },
  {
   "cell_type": "code",
   "execution_count": 120,
   "metadata": {},
   "outputs": [
    {
     "name": "stdout",
     "output_type": "stream",
     "text": [
      "40 passed\n"
     ]
    }
   ],
   "source": [
    "#14 WAP to check whether the student has passed or failed. \n",
    "#If the student got more than 40 marks, print ‘PASS’ along with those marks,\n",
    "# if it is not printed ‘FAIL’ along with those marks.\n",
    "n=40\n",
    "m=42\n",
    "if m>n:\n",
    "    print(n,'passed')\n",
    "else:\n",
    "    print(m,'failed')"
   ]
  },
  {
   "cell_type": "code",
   "execution_count": 121,
   "metadata": {},
   "outputs": [
    {
     "name": "stdout",
     "output_type": "stream",
     "text": [
      "[13]\n"
     ]
    }
   ],
   "source": [
    "#15 WAP to check whether a given value is even and in range of 47 to 58 and not in 0 or odd. \n",
    "#if condition is True, to perform display the ascii character. or else to perform floor division with 5 and display it.\n",
    "n=int(input())\n",
    "m=[]\n",
    "if n<125 and 47<n<125:\n",
    "    print({n:chr(n)})\n",
    "else:\n",
    "    m+=[n]\n",
    "    print(m)    "
   ]
  },
  {
   "cell_type": "code",
   "execution_count": 122,
   "metadata": {},
   "outputs": [
    {
     "name": "stdout",
     "output_type": "stream",
     "text": [
      "@ not a alphabet\n"
     ]
    }
   ],
   "source": [
    "#16 WAP to check whether a given character is in the alphabet or not.\n",
    "# if alphabet, display the alphabet with character or else display the not alphabet with character.\n",
    "ch='@' \n",
    "if ch in 'A'<=ch<='Z' or 'a'<=ch<='z':\n",
    "    print(ch,'is a alphabet')\n",
    "else:\n",
    "    print(ch,'not a alphabet')"
   ]
  },
  {
   "cell_type": "code",
   "execution_count": 123,
   "metadata": {},
   "outputs": [
    {
     "name": "stdout",
     "output_type": "stream",
     "text": [
      "Z is in uppercase\n"
     ]
    }
   ],
   "source": [
    "#17 WAP to check whether a given character is uppercase or other character. \n",
    "#if uppercase, display the uppercase with character or else display the other character with character. \n",
    "ch='Z'\n",
    "if 65<=ord(ch)<=90:\n",
    "    print(ch,'is in uppercase')\n",
    "else:\n",
    "    print(ch,'is a other character')"
   ]
  },
  {
   "cell_type": "code",
   "execution_count": 124,
   "metadata": {},
   "outputs": [
    {
     "name": "stdout",
     "output_type": "stream",
     "text": [
      "z is in lowercase\n"
     ]
    }
   ],
   "source": [
    "#18 WAP to check whether a given character is lowercase or other character.\n",
    "# if lowercase, display the lowercase with character or else display the other character with character. \n",
    "ch='z'\n",
    "if 97<=ord(ch)<=122:\n",
    "    print(ch,'is in lowercase')\n",
    "else:\n",
    "    print(ch,'is a other charater')"
   ]
  },
  {
   "cell_type": "code",
   "execution_count": 125,
   "metadata": {},
   "outputs": [
    {
     "name": "stdout",
     "output_type": "stream",
     "text": [
      "101\n"
     ]
    }
   ],
   "source": [
    "#19 WAP to check whether a given character is uppercase or other character. \n",
    "#if uppercase, convert to lowercase .or else display the ascii number. \n",
    "ch='e'\n",
    "if 65<=ord(ch)<=90:\n",
    "    print(chr(ord(ch))+32)\n",
    "else:\n",
    "    print(ord(ch))"
   ]
  },
  {
   "cell_type": "code",
   "execution_count": 126,
   "metadata": {},
   "outputs": [
    {
     "name": "stdout",
     "output_type": "stream",
     "text": [
      "invalid characater\n"
     ]
    }
   ],
   "source": [
    "#20 WAP to check whether the given character is in lowercase or uppercase.\n",
    "# If it is in lowercase, convert it into uppercase, or else it is in uppercase and convert it into lowercase. Display the value.\n",
    "ch='@'\n",
    "if 65<=ord(ch)<=90:\n",
    "    print(chr(ord(ch)+32))\n",
    "elif 97<=ord(ch)<=122:\n",
    "    print(chr(ord(ch)-32))\n",
    "else:\n",
    "    print('invalid characater')"
   ]
  },
  {
   "cell_type": "code",
   "execution_count": 127,
   "metadata": {},
   "outputs": [],
   "source": [
    "#21 WAP to check whether the given string of the first character is a special symbol or not. \n",
    "#If a special symbol, to extract and display the middle character or else to reverse the string and display the half of the string. \n",
    "ch='@bcd'\n",
    "if ch[0] not in 'A'<=ch[0]<='Z' or 'a'<=ch[0]<='z' or  '0'<=ch[0]<='9':\n",
    "    ch1=len(ch)//2\n",
    "    print(ch[ch1])"
   ]
  },
  {
   "cell_type": "code",
   "execution_count": 128,
   "metadata": {},
   "outputs": [
    {
     "name": "stdout",
     "output_type": "stream",
     "text": [
      "a vowel\n"
     ]
    }
   ],
   "source": [
    "#22 WAP to check whether the input character is a vowel or not. \n",
    "#If it is vowel print ‘VOWEL’ along with that character, if it is not just print ‘CONSONANT’.\n",
    "ch='a'\n",
    "if ch in 'aeiouAEIOU':\n",
    "    print(ch,'vowel')\n",
    "else:\n",
    "    print(ch,'consonant')"
   ]
  },
  {
   "cell_type": "code",
   "execution_count": 129,
   "metadata": {},
   "outputs": [
    {
     "name": "stdout",
     "output_type": "stream",
     "text": [
      "b\n"
     ]
    }
   ],
   "source": [
    "#23 WAP to check whether a given character is a vowel or consonant. \n",
    "#if vowel, to print the next character of a given character or else print previous characters.\n",
    "ch='c'\n",
    "if ch in 'aeiouAEIOU':\n",
    "    print(chr(ord(ch)+1))\n",
    "else:\n",
    "    print(chr(ord(ch)-1))"
   ]
  },
  {
   "cell_type": "code",
   "execution_count": 130,
   "metadata": {},
   "outputs": [
    {
     "name": "stdout",
     "output_type": "stream",
     "text": [
      "r\n"
     ]
    }
   ],
   "source": [
    "#24 WAP to check whether a given string of first character is alphabet or not \n",
    "#if the alphabet prints, reverse the string or else print the middle character. \n",
    "ch='@sharanu'\n",
    "if ch[0] in 'A'<=ch[0]<='Z' or 'a'<=ch[0]<='z':\n",
    "    print(ch[::-1])\n",
    "else:\n",
    "    ch1=len(ch)//2\n",
    "    print(ch[ch1])"
   ]
  },
  {
   "cell_type": "code",
   "execution_count": 131,
   "metadata": {},
   "outputs": [
    {
     "name": "stdout",
     "output_type": "stream",
     "text": [
      "A\n"
     ]
    }
   ],
   "source": [
    "#25 WAP to check whether the given input character is uppercase or lowercase.\n",
    "# If the input character is upper case convert into lower case and vice versa.\n",
    "ch='a'\n",
    "if 'A'<=ch<='Z':\n",
    "    print(chr(ord(ch)+32))\n",
    "else:\n",
    "    print(chr(ord(ch)-32))"
   ]
  },
  {
   "cell_type": "code",
   "execution_count": 132,
   "metadata": {},
   "outputs": [
    {
     "name": "stdout",
     "output_type": "stream",
     "text": [
      "ranu\n"
     ]
    }
   ],
   "source": [
    "#26 WAP to check whether a given string is less than 3 characters, to print the entire \n",
    "#string otherwise to print after third positions to the remaining string.\n",
    "ch='sharanu'\n",
    "if len(ch)<3:\n",
    "    print(ch)\n",
    "else:\n",
    "    print(ch[3:])"
   ]
  },
  {
   "cell_type": "code",
   "execution_count": 133,
   "metadata": {},
   "outputs": [
    {
     "name": "stdout",
     "output_type": "stream",
     "text": [
      "su\n"
     ]
    }
   ],
   "source": [
    "#27 WAP to check whether a given length of the string is even or not. \n",
    "#if even, to append the new string called \"bye\" or else print the first and last characters.\n",
    "ch='sharanu'\n",
    "if len(ch)%2==0:\n",
    "    print('bye'+ch)\n",
    "else:\n",
    "    print(ch[0]+ch[-1])"
   ]
  },
  {
   "cell_type": "code",
   "execution_count": 134,
   "metadata": {},
   "outputs": [
    {
     "name": "stdout",
     "output_type": "stream",
     "text": [
      "Haiisajja\n"
     ]
    }
   ],
   "source": [
    "#28  WAP to check whether a given length of the string is odd or not.\n",
    "# if odd, to append the new string(\"Haii\") from the starting of the given string, or else to avoid the \n",
    "#starting character and ending character of the given  string and to display the remaining characters\n",
    "ch='sajja'\n",
    "if len(ch)%2!=0:\n",
    "    print('Haii'+ch)\n",
    "else:\n",
    "    print(ch[1:len(ch)-1])"
   ]
  },
  {
   "cell_type": "code",
   "execution_count": 136,
   "metadata": {},
   "outputs": [
    {
     "name": "stdout",
     "output_type": "stream",
     "text": [
      "it is a leap year\n"
     ]
    }
   ],
   "source": [
    "#29 WAP to check whether a given year is a leap year or not. \n",
    "#if leap year, print leap year or else not a leap year. \n",
    "n=int(input(\"enter a year\"))\n",
    "if n%4==0:\n",
    "    print(\"it is a leap year\")\n",
    "else:\n",
    "    print(\"not a leap year\")"
   ]
  },
  {
   "cell_type": "code",
   "execution_count": null,
   "metadata": {},
   "outputs": [
    {
     "name": "stdout",
     "output_type": "stream",
     "text": [
      "value id available\n"
     ]
    }
   ],
   "source": [
    "#30 WAP to check whether the given value is present inside the given collection or not.\n",
    "#if value is present, display the value is available or else the value is not present.\n",
    "\n",
    "s=[10,20,30]\n",
    "if 10 in s:\n",
    "    print(\"value id available\")\n",
    "else:\n",
    "    print(\"valis is not available\")\n"
   ]
  },
  {
   "cell_type": "code",
   "execution_count": null,
   "metadata": {},
   "outputs": [
    {
     "name": "stdout",
     "output_type": "stream",
     "text": [
      "ababab\n"
     ]
    }
   ],
   "source": [
    "#31 WAP whether a given string, if string length is more than 2, then it displays a new \n",
    "#string with the first and last characters switched, otherwise the display the 3 \n",
    "#copies of given string.\n",
    "ch='ab'\n",
    "if len(ch)>2:\n",
    "    ch1=ch[-1]+'haii'+ch[0]\n",
    "    print(ch1)\n",
    "else:\n",
    "    print(ch*3)"
   ]
  },
  {
   "cell_type": "code",
   "execution_count": 1,
   "metadata": {},
   "outputs": [
    {
     "name": "stdout",
     "output_type": "stream",
     "text": [
      "[6, 'a', -9]\n"
     ]
    }
   ],
   "source": [
    "#32 WAP to check whether a given value is a list and first and last values should be \n",
    "#integer if condition is satisfied first value is True division by 3 and perform the \n",
    "#bitwise not for last value and those result values are stored in same positions in \n",
    "#given list or else, to perform length of the collection power by 2 and display \n",
    "#value\n",
    "c=[6,'a',9]\n",
    "if type(c[0])==int and type(c[-1])==int and type(c)==list:\n",
    "    c[0]==c[0]/3\n",
    "    c[-1]=-c[-1]\n",
    "    print(c)\n",
    "else:\n",
    "    d=len(c)**2\n",
    "    print(d)"
   ]
  },
  {
   "cell_type": "code",
   "execution_count": 2,
   "metadata": {},
   "outputs": [
    {
     "name": "stdout",
     "output_type": "stream",
     "text": [
      "pythondhaiieveloper\n"
     ]
    }
   ],
   "source": [
    "#33 WAP to check whether a given value is a string or not and length of the value \n",
    "#should be more than 7, if condition is satisfied to append the new string in the \n",
    "#middle of the given string or else to perform the replications with 3 and display \n",
    "#the result.\n",
    "ch='pythondeveloper'\n",
    "if type(ch)==str and len(ch)>7:\n",
    "    ch1=ch[0:len(ch)//2]+'haii'+ch[len(ch)//2:]\n",
    "    print(ch1)\n",
    "else:\n",
    "    print(ch*3)"
   ]
  },
  {
   "cell_type": "code",
   "execution_count": 3,
   "metadata": {},
   "outputs": [
    {
     "name": "stdout",
     "output_type": "stream",
     "text": [
      "fedaghcd\n"
     ]
    }
   ],
   "source": [
    "#34 WAP to check if the given string of first and second character should be sequence \n",
    "#or not. if the sequence prints the first, second and last two characters, or else the \n",
    "#first half string is reversed and the remaining half string should be normal and \n",
    "#display it. \n",
    "ch='adefghcd'\n",
    "if ord(ch[0])==ord(ch[1])-1:\n",
    "    print(ch[0:2]+ch[-2:])\n",
    "else:\n",
    "    ch1=ch[3::-1] \n",
    "    print(ch1+ch[len(ch)//2:])"
   ]
  },
  {
   "cell_type": "code",
   "execution_count": 4,
   "metadata": {},
   "outputs": [
    {
     "name": "stdout",
     "output_type": "stream",
     "text": [
      "{'a': 10, 'b': 20, 'c': 30, 'd': 40, 'e': 50}\n"
     ]
    }
   ],
   "source": [
    "#35 WAP to check whether a given key is present in the dict or not. if key is present \n",
    "#display the value or else add key and new value inside the dict. \n",
    "d={'a':10,'b':20,'c':30,'d':40}\n",
    "if d['d'] in d:\n",
    "    print(d['d'])\n",
    "else:\n",
    "    d['e']=50\n",
    "    print(d)"
   ]
  },
  {
   "cell_type": "code",
   "execution_count": 5,
   "metadata": {},
   "outputs": [
    {
     "name": "stdout",
     "output_type": "stream",
     "text": [
      "not eligible\n"
     ]
    }
   ],
   "source": [
    "#36 WAP to read the age of a candidate and determine whether it is eligible for \n",
    "#his/her own vote or not.it eligible print age and eligible messages or else print \n",
    "#not eligible.\n",
    "n=int(input())\n",
    "if n>18:\n",
    "    print(\"eligible\")\n",
    "else:\n",
    "    print(\"not eligible\")\n",
    "    "
   ]
  },
  {
   "cell_type": "code",
   "execution_count": 6,
   "metadata": {},
   "outputs": [
    {
     "name": "stdout",
     "output_type": "stream",
     "text": [
      "it is a palindrome\n"
     ]
    }
   ],
   "source": [
    "#37 WAP to check whether the given string is palindrome or not if it is a palindrome \n",
    "#string palindrome along with the string if it is not a palindrome print not \n",
    "#palindrome\n",
    "s1='madam'\n",
    "s2='madam'\n",
    "if s1==s2[::-1]:\n",
    "    print(\"it is a palindrome\")\n",
    "else:\n",
    "    print(\"it is not a palindrome\")\n",
    " \n"
   ]
  },
  {
   "cell_type": "code",
   "execution_count": 8,
   "metadata": {},
   "outputs": [
    {
     "name": "stdout",
     "output_type": "stream",
     "text": [
      "7 sharanu\n",
      "9 basavaraj\n"
     ]
    }
   ],
   "source": [
    "#38  WAP to check length of both string collections are equal or not. if both are equal \n",
    "#print the concat the two strings and display, or else if any one of the collection \n",
    "#not equal print both the collections with lengths  \n",
    "s1='sharanu'\n",
    "s2='basavaraj'\n",
    "if len(s1)==len(s2):\n",
    "    print(s1+s2)\n",
    "else:\n",
    "    print(len(s1),s1)\n",
    "    print(len(s2),s2)"
   ]
  },
  {
   "cell_type": "code",
   "execution_count": 7,
   "metadata": {},
   "outputs": [],
   "source": [
    "#39 WAP to check whether both given values point to the same memory location or \n",
    "#not. if it is true print the middle item of the second collection, or else if it is false \n",
    "#print the first item and last item of the first collection along with the memory \n",
    "#address. \n",
    "s1=[1,2,3,]\n",
    "s2=['a','b','c']\n",
    "if"
   ]
  },
  {
   "cell_type": "code",
   "execution_count": null,
   "metadata": {},
   "outputs": [],
   "source": [
    "#40 WAP to  check whether a given string collection is more than ten, and the first + \n",
    "#last character of the ascii values should be divisible by 5, if condition is satisfied \n",
    "#print first, middle, last characters ASCII values or else print the string three \n",
    "#times. "
   ]
  }
 ],
 "metadata": {
  "kernelspec": {
   "display_name": "Python 3",
   "language": "python",
   "name": "python3"
  },
  "language_info": {
   "codemirror_mode": {
    "name": "ipython",
    "version": 3
   },
   "file_extension": ".py",
   "mimetype": "text/x-python",
   "name": "python",
   "nbconvert_exporter": "python",
   "pygments_lexer": "ipython3",
   "version": "3.11.4"
  },
  "orig_nbformat": 4
 },
 "nbformat": 4,
 "nbformat_minor": 2
}
