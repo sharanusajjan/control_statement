{
 "cells": [
  {
   "cell_type": "code",
   "execution_count": 8,
   "metadata": {},
   "outputs": [
    {
     "name": "stdout",
     "output_type": "stream",
     "text": [
      "netutral\n"
     ]
    }
   ],
   "source": [
    "n=0\n",
    "if n>0:\n",
    "    print(\"positive\")\n",
    "elif n<0:\n",
    "    print(\"negative\")\n",
    "else:\n",
    "    print(\"netutral\")"
   ]
  },
  {
   "cell_type": "code",
   "execution_count": 9,
   "metadata": {},
   "outputs": [
    {
     "name": "stdout",
     "output_type": "stream",
     "text": [
      "uppercase\n"
     ]
    }
   ],
   "source": [
    "n='S'\n",
    "if 'A'<=n<='Z':\n",
    "    print(\"uppercase\")\n",
    "elif 'a'<=n<='z':\n",
    "    print(\"lowercase\")\n",
    "else:\n",
    "    print(\"ascii value\")"
   ]
  },
  {
   "cell_type": "code",
   "execution_count": 28,
   "metadata": {},
   "outputs": [
    {
     "name": "stdout",
     "output_type": "stream",
     "text": [
      "invailde\n"
     ]
    }
   ],
   "source": [
    "# wap arthametical operation in between 2 val by the help of user choice\n",
    "a=10\n",
    "b=20\n",
    "if a==b:\n",
    "    print(a+b)\n",
    "elif a-b==2:\n",
    "    print(a-b)\n",
    "else:\n",
    "    print(\"invailde\")"
   ]
  },
  {
   "cell_type": "code",
   "execution_count": 30,
   "metadata": {},
   "outputs": [
    {
     "name": "stdout",
     "output_type": "stream",
     "text": [
      "10 10 both are same\n"
     ]
    }
   ],
   "source": [
    "m=10\n",
    "n=10\n",
    "if m<n:\n",
    "    print(m,\"is less than\",n)\n",
    "elif m>n:\n",
    "    print(m,\"is greater than\",n)\n",
    "elif m==n:\n",
    "    print(m,n,\"both are same\")"
   ]
  },
  {
   "cell_type": "code",
   "execution_count": null,
   "metadata": {},
   "outputs": [],
   "source": [
    "#to find out the given val is what type val in that num,bool,none,seq,map \n",
    "n={'a':10}\n",
    "if type(n) in [int,float,complex,bytes]:\n",
    "    print(\"given value in number data type\")\n",
    "elif type(n)==bool:\n",
    "    print(\"given value in bool data type\")\n",
    "elif type(\"\")"
   ]
  },
  {
   "cell_type": "code",
   "execution_count": null,
   "metadata": {},
   "outputs": [],
   "source": [
    "# to check whether given char is alphabets or ascii number "
   ]
  }
 ],
 "metadata": {
  "kernelspec": {
   "display_name": "Python 3",
   "language": "python",
   "name": "python3"
  },
  "language_info": {
   "codemirror_mode": {
    "name": "ipython",
    "version": 3
   },
   "file_extension": ".py",
   "mimetype": "text/x-python",
   "name": "python",
   "nbconvert_exporter": "python",
   "pygments_lexer": "ipython3",
   "version": "3.11.4"
  },
  "orig_nbformat": 4
 },
 "nbformat": 4,
 "nbformat_minor": 2
}
