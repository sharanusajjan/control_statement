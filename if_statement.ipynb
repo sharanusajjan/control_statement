{
 "cells": [
  {
   "cell_type": "code",
   "execution_count": 78,
   "metadata": {},
   "outputs": [
    {
     "name": "stdout",
     "output_type": "stream",
     "text": [
      "enter a positive\n"
     ]
    }
   ],
   "source": [
    "1\n",
    "#to check whether a number is  positive. if positive, print a message positive\n",
    "n=10\n",
    "if n==10:\n",
    "    print(\"enter a positive\")"
   ]
  },
  {
   "cell_type": "code",
   "execution_count": 57,
   "metadata": {},
   "outputs": [
    {
     "name": "stdout",
     "output_type": "stream",
     "text": [
      "hello world\n"
     ]
    }
   ],
   "source": [
    "2\n",
    "# to display hello world if the number is greater than 1 and lesser than 5 \n",
    "n=4\n",
    "if n>1 and n<5:\n",
    "    print(\"hello world\")"
   ]
  },
  {
   "cell_type": "code",
   "execution_count": 58,
   "metadata": {},
   "outputs": [
    {
     "name": "stdout",
     "output_type": "stream",
     "text": [
      "fizz\n"
     ]
    }
   ],
   "source": [
    "3\n",
    "#to check whether the given number is divisible by 3 or not if print fizz. \n",
    "n=20\n",
    "if n%2==0:\n",
    "    print(\"fizz\")"
   ]
  },
  {
   "cell_type": "code",
   "execution_count": 59,
   "metadata": {},
   "outputs": [
    {
     "name": "stdout",
     "output_type": "stream",
     "text": [
      "['3', '0']\n"
     ]
    }
   ],
   "source": [
    "4\n",
    "#to check whether a given input is divisible by 3 or 5. If the condition is  satisfied, the number is converted to a list.\n",
    "#i/p:30 o/p:['3','0']\n",
    "n=30\n",
    "if n%2==0 and n%6==0:\n",
    "    print(list(str(n)))"
   ]
  },
  {
   "cell_type": "code",
   "execution_count": 60,
   "metadata": {},
   "outputs": [
    {
     "name": "stdout",
     "output_type": "stream",
     "text": [
      "given number a divisible by 5\n"
     ]
    }
   ],
   "source": [
    "5\n",
    "#to check whether a given number is multiple of 5 or not \n",
    "n=10\n",
    "if n%5==0:\n",
    "    print(\"given number a divisible by 5\")"
   ]
  },
  {
   "cell_type": "code",
   "execution_count": 61,
   "metadata": {},
   "outputs": [
    {
     "name": "stdout",
     "output_type": "stream",
     "text": [
      "0\n"
     ]
    }
   ],
   "source": [
    "6\n",
    "# to check whether the given input is 0 or not if 0 prints 0.\n",
    "n=0\n",
    "if n==0:\n",
    "    print(n)\n"
   ]
  },
  {
   "cell_type": "code",
   "execution_count": 62,
   "metadata": {},
   "outputs": [
    {
     "name": "stdout",
     "output_type": "stream",
     "text": [
      "enter the negative\n"
     ]
    }
   ],
   "source": [
    "7\n",
    "#  to check whether a number is negative. If negative, print a message negative. \n",
    "n=-6\n",
    "if n<0:\n",
    "    print(\"enter the negative\")"
   ]
  },
  {
   "cell_type": "code",
   "execution_count": 63,
   "metadata": {},
   "outputs": [
    {
     "name": "stdout",
     "output_type": "stream",
     "text": [
      "['1', '0']\n"
     ]
    }
   ],
   "source": [
    "8\n",
    "#to check whether a number is even or not. If even, store the value inside the list. \n",
    "n=10\n",
    "if n%2==0:\n",
    "    print(list(str(n)))"
   ]
  },
  {
   "cell_type": "code",
   "execution_count": 64,
   "metadata": {},
   "outputs": [
    {
     "name": "stdout",
     "output_type": "stream",
     "text": [
      "('1', '0')\n"
     ]
    }
   ],
   "source": [
    "9\n",
    "#to check whether a number is odd or not. If odd, store the value inside the tuple.\n",
    "n=10\n",
    "if n%2==0:\n",
    "    print(tuple(str(n)))"
   ]
  },
  {
   "cell_type": "code",
   "execution_count": 65,
   "metadata": {},
   "outputs": [
    {
     "name": "stdout",
     "output_type": "stream",
     "text": [
      "1679616\n"
     ]
    }
   ],
   "source": [
    "10\n",
    "#to check if the given number is even or not. if it is yes, to print the power of 4 in a given number. \n",
    "n=36\n",
    "if n%2==0:\n",
    "    print(n**4)"
   ]
  },
  {
   "cell_type": "code",
   "execution_count": 66,
   "metadata": {},
   "outputs": [
    {
     "name": "stdout",
     "output_type": "stream",
     "text": [
      "54\n"
     ]
    }
   ],
   "source": [
    "12\n",
    "#to take the input from the user as a number and check whether it is a number or not. if yes. take the number and add some value and print it.\n",
    "user_input=int(input(\"enter a number\"))\n",
    "print((user_input+10))"
   ]
  },
  {
   "cell_type": "code",
   "execution_count": 67,
   "metadata": {},
   "outputs": [
    {
     "name": "stdout",
     "output_type": "stream",
     "text": [
      "1225\n"
     ]
    }
   ],
   "source": [
    "13\n",
    "#to check whether a given value is divisible by 5 and 7. If the value is divisible,to display the square of the  values.\n",
    "n=35\n",
    "if n%5==0 and n%7==0:\n",
    "    print(n*n)\n",
    "    "
   ]
  },
  {
   "cell_type": "code",
   "execution_count": 68,
   "metadata": {},
   "outputs": [
    {
     "name": "stdout",
     "output_type": "stream",
     "text": [
      "2\n"
     ]
    }
   ],
   "source": [
    "14\n",
    "# to check whether the given value's last digit is greater than 5 or not.\n",
    "# if greater, to perform the bitwise right shift operator \n",
    "n=128\n",
    "m=n%10\n",
    "if m>5:\n",
    "    print(m>>2)"
   ]
  },
  {
   "cell_type": "code",
   "execution_count": 69,
   "metadata": {},
   "outputs": [
    {
     "name": "stdout",
     "output_type": "stream",
     "text": [
      "19683\n"
     ]
    }
   ],
   "source": [
    "15\n",
    "#to check whether a given value is divisible by 3 and less than 30.\n",
    "#If the value is divisible,to display the square of the  values.\n",
    "n=27\n",
    "if n%3==0 and n<30:\n",
    "    print(n**3)"
   ]
  },
  {
   "cell_type": "code",
   "execution_count": 70,
   "metadata": {},
   "outputs": [
    {
     "name": "stdout",
     "output_type": "stream",
     "text": [
      "46656\n"
     ]
    }
   ],
   "source": [
    "16\n",
    "# to check whether a given value is an even number and divisible by 4. \n",
    "# If satisfied ,to display the cube of the  values.\n",
    "n=36\n",
    "if n%2==0 and n%4==0:\n",
    "    print(n**3)"
   ]
  },
  {
   "cell_type": "code",
   "execution_count": 71,
   "metadata": {},
   "outputs": [
    {
     "name": "stdout",
     "output_type": "stream",
     "text": [
      "['3', '4', '5', '6']\n"
     ]
    }
   ],
   "source": [
    "17\n",
    "#to check whether a given value is even or not. \n",
    "# If the even number stores the value inside the list.\n",
    "n=3456\n",
    "if n%2==0:\n",
    "    print(list(str(n)))"
   ]
  },
  {
   "cell_type": "code",
   "execution_count": 72,
   "metadata": {},
   "outputs": [
    {
     "name": "stdout",
     "output_type": "stream",
     "text": [
      "7\n",
      "7\n"
     ]
    }
   ],
   "source": [
    "18\n",
    "#P to check whether a given value is a negative or even number. \n",
    "# If satisfied ,to  display the last digit of the  values. \n",
    "n=-27\n",
    "if n%3==1 or n<0:\n",
    "    print(abs(n)%10)\n",
    "    print(n*(-1)%10)\n"
   ]
  },
  {
   "cell_type": "code",
   "execution_count": 73,
   "metadata": {},
   "outputs": [
    {
     "name": "stdout",
     "output_type": "stream",
     "text": [
      "13824\n"
     ]
    }
   ],
   "source": [
    "19\n",
    "# to check whether a given value is a negative or odd number and divisible by 4. \n",
    "# If satisfied ,to display the cube of the  valu es.\n",
    "n=24\n",
    "if (n%2==0 or n<0) and n%4==0:\n",
    "    print(n**3)"
   ]
  },
  {
   "cell_type": "code",
   "execution_count": 74,
   "metadata": {},
   "outputs": [],
   "source": [
    "#20 to check whether a given ascii value is divisible by 4 and even value. \n",
    "# If satisfied, to display the ascii character. \n",
    "ch='s'\n",
    "if ord(ch)%4==0 and ord(ch)%2==0:\n",
    "    print(ch)"
   ]
  },
  {
   "cell_type": "code",
   "execution_count": 75,
   "metadata": {},
   "outputs": [
    {
     "name": "stdout",
     "output_type": "stream",
     "text": [
      "P\n"
     ]
    }
   ],
   "source": [
    "#21 to check whether a given value is present in between 45 to 125 and the number should be divisible by 4 and 5 and even value. \n",
    "# If satisfied, to display the ascii character.\n",
    "ch='P'\n",
    "if 45<=ord(ch)<=125 and ord(ch)%4==0 and ord(ch)%2==0 and ord(ch)%5==0:\n",
    "    print(ch)"
   ]
  },
  {
   "cell_type": "code",
   "execution_count": 1,
   "metadata": {},
   "outputs": [
    {
     "name": "stdout",
     "output_type": "stream",
     "text": [
      "200\n"
     ]
    }
   ],
   "source": [
    "#22  to check whether a given value is present in between 25 to 100 and the number should be divisible by 4 and 5. \n",
    "# If satisfied, to display  multiplication of given value with 5.\n",
    "n=40\n",
    "if n%4==0 and n%5==0:\n",
    "    print(n*5)"
   ]
  },
  {
   "cell_type": "code",
   "execution_count": 2,
   "metadata": {},
   "outputs": [
    {
     "name": "stdout",
     "output_type": "stream",
     "text": [
      "True\n"
     ]
    }
   ],
   "source": [
    "#23 WAP to check whether a given number is an integer and odd number. \n",
    "# If the condition is satisfied, the integer is divisible by 5 and displays the result.\n",
    "n=25\n",
    "if type (n)==int and n%2==1:\n",
    "    print(n%5==0)"
   ]
  },
  {
   "cell_type": "code",
   "execution_count": 3,
   "metadata": {},
   "outputs": [
    {
     "name": "stdout",
     "output_type": "stream",
     "text": [
      "80\n"
     ]
    }
   ],
   "source": [
    "#24 WAP to check whether a given value is an integer or not. \n",
    "# If integer, the given value is converted to string and displays the result.\n",
    "n=80\n",
    "if type(n)==int:\n",
    "    print(str(n))"
   ]
  },
  {
   "cell_type": "code",
   "execution_count": 5,
   "metadata": {},
   "outputs": [
    {
     "name": "stdout",
     "output_type": "stream",
     "text": [
      "3\n",
      "r\n"
     ]
    }
   ],
   "source": [
    "#25 WAP to check whether a given value is less than 125 and greater than 60 or not. \n",
    "#If the condition is satisfied, take the name and extract the middle character and display it.\n",
    "n=80\n",
    "m=\"sharanu\"\n",
    "if 60<=n<=125:\n",
    "    print(len(m)//2)\n",
    "    print(m[3])"
   ]
  },
  {
   "cell_type": "code",
   "execution_count": 9,
   "metadata": {},
   "outputs": [
    {
     "name": "stdout",
     "output_type": "stream",
     "text": [
      "20\n"
     ]
    }
   ],
   "source": [
    "#26 WAP to check whether a given two integers are equal or not. \n",
    "# If both are equal, to perform addition and display the result.\n",
    "n=10\n",
    "m=10\n",
    "if n==m:\n",
    "    print(n+m) "
   ]
  },
  {
   "cell_type": "code",
   "execution_count": 13,
   "metadata": {},
   "outputs": [
    {
     "name": "stdout",
     "output_type": "stream",
     "text": [
      "1\n"
     ]
    }
   ],
   "source": [
    "#27 WAP to check whether two values are equal or not. \n",
    "# if equal, to perform multiplication of two numbers and that result is division by 3 and display the value.\n",
    "n1=10\n",
    "n2=10\n",
    "if n1==n2:\n",
    "    res=n1*n2\n",
    "    print(res%3)"
   ]
  },
  {
   "cell_type": "code",
   "execution_count": 28,
   "metadata": {},
   "outputs": [
    {
     "name": "stdout",
     "output_type": "stream",
     "text": [
      "{'A': 65}\n"
     ]
    }
   ],
   "source": [
    "#28 WAP to check whether a character is in the alphabet or not. \n",
    "# If the alphabet, store the value inside the dict(key as a character and value as an ascii value).\n",
    "ch='A'\n",
    "if ch in 'A'<=ch<='Z' or 'a'<=ch<='z':\n",
    "    print({ch:ord(ch)})"
   ]
  },
  {
   "cell_type": "code",
   "execution_count": 33,
   "metadata": {},
   "outputs": [
    {
     "name": "stdout",
     "output_type": "stream",
     "text": [
      "{'A': 65}\n"
     ]
    }
   ],
   "source": [
    "#29 WAP to check whether a character is in the uppercase or not. \n",
    "# If the uppercase, store the value inside the dict(key as a character and value as an ascii value). \n",
    "ch='A'\n",
    "if ch in 'A'<=ch<='Z' or 'a'<=ch<='z':\n",
    "    print({ch:ord(ch)})"
   ]
  },
  {
   "cell_type": "code",
   "execution_count": 43,
   "metadata": {},
   "outputs": [
    {
     "name": "stdout",
     "output_type": "stream",
     "text": [
      "9409\n"
     ]
    }
   ],
   "source": [
    "#30 WAP to check whether a character is in the lowercase or not. \n",
    "# If the lowercase, to perform the replication operation on that character.\n",
    "n='a'\n",
    "if 'a'<=n<='z':\n",
    "    print(ord(n)*ord(n))"
   ]
  },
  {
   "cell_type": "code",
   "execution_count": 47,
   "metadata": {},
   "outputs": [
    {
     "name": "stdout",
     "output_type": "stream",
     "text": [
      "4225\n"
     ]
    }
   ],
   "source": [
    "#31 WAP to check whether a character is in the ascii number or not. \n",
    "# If the ascii number, to convert into integer.\n",
    "n='A'\n",
    "if 0<=ord(n)<=127:\n",
    "    print(int(ord(n)*ord(n)))"
   ]
  },
  {
   "cell_type": "code",
   "execution_count": 45,
   "metadata": {},
   "outputs": [
    {
     "name": "stdout",
     "output_type": "stream",
     "text": [
      "65\n"
     ]
    }
   ],
   "source": [
    "#32 WAP to check whether a character is in the special symbol or not. \n",
    "# If the special symbol, to display a symbol with ascii value.\n",
    "n='#'\n",
    "if 0<=ord(n)<=127:\n",
    "    print(ord(ch))\n"
   ]
  },
  {
   "cell_type": "code",
   "execution_count": 48,
   "metadata": {},
   "outputs": [
    {
     "name": "stdout",
     "output_type": "stream",
     "text": [
      "1156\n"
     ]
    }
   ],
   "source": [
    "#34 WAP to check whether a Given two integers a and b, if any of the integers is 10\n",
    "#or if their sum is 10, to perform the sum of the numbers and to display  the square of the result.\n",
    "a=10\n",
    "b=24\n",
    "if a==10 and b==24 or a+b==10:\n",
    "    c=a+b\n",
    "    print(c*c)"
   ]
  },
  {
   "cell_type": "code",
   "execution_count": 53,
   "metadata": {},
   "outputs": [
    {
     "name": "stdout",
     "output_type": "stream",
     "text": [
      "F\n"
     ]
    }
   ],
   "source": [
    "#35 WAP to check whether a Given two integers a and b, \n",
    "# if any of the integers is 10 or if their sum is 10, to perform the sum of the numbers and to display  the square of the result.\n",
    "n='E'\n",
    "if n in 'AEIOUaeiou':\n",
    "    print(chr(ord(n)+1))"
   ]
  },
  {
   "cell_type": "code",
   "execution_count": 54,
   "metadata": {},
   "outputs": [
    {
     "name": "stdout",
     "output_type": "stream",
     "text": [
      "D\n"
     ]
    }
   ],
   "source": [
    "#36 WAP to check whether a character is in the not a vowel. \n",
    "# If it's not a vowel,print the previous character. \n",
    "n='E'\n",
    "if n in 'AEIOUaeiou':\n",
    "    print(chr(ord(n)-1))"
   ]
  },
  {
   "cell_type": "code",
   "execution_count": null,
   "metadata": {},
   "outputs": [],
   "source": []
  }
 ],
 "metadata": {
  "kernelspec": {
   "display_name": "Python 3",
   "language": "python",
   "name": "python3"
  },
  "language_info": {
   "codemirror_mode": {
    "name": "ipython",
    "version": 3
   },
   "file_extension": ".py",
   "mimetype": "text/x-python",
   "name": "python",
   "nbconvert_exporter": "python",
   "pygments_lexer": "ipython3",
   "version": "3.11.4"
  },
  "orig_nbformat": 4
 },
 "nbformat": 4,
 "nbformat_minor": 2
}
