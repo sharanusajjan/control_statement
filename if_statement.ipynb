{
 "cells": [
  {
   "cell_type": "code",
   "execution_count": 1,
   "metadata": {},
   "outputs": [
    {
     "name": "stdout",
     "output_type": "stream",
     "text": [
      "start\n",
      "sajjan\n",
      "stop\n"
     ]
    }
   ],
   "source": [
    "print(\"start\")\n",
    "if True:\n",
    "    print(\"sajjan\")\n",
    "print(\"stop\")"
   ]
  },
  {
   "cell_type": "code",
   "execution_count": 2,
   "metadata": {},
   "outputs": [
    {
     "name": "stdout",
     "output_type": "stream",
     "text": [
      "enter a positive\n"
     ]
    }
   ],
   "source": [
    "1\n",
    "#to check whether a number is  positive. if positive, print a message positive\n",
    "n=10\n",
    "if n==10:\n",
    "    print(\"enter a positive\")"
   ]
  },
  {
   "cell_type": "code",
   "execution_count": 9,
   "metadata": {},
   "outputs": [
    {
     "name": "stdout",
     "output_type": "stream",
     "text": [
      "hello world\n"
     ]
    }
   ],
   "source": [
    "2\n",
    "# to display hello world if the number is greater than 1 and lesser than 5 \n",
    "n=4\n",
    "if n>1 and n<5:\n",
    "    print(\"hello world\")"
   ]
  },
  {
   "cell_type": "code",
   "execution_count": 10,
   "metadata": {},
   "outputs": [
    {
     "name": "stdout",
     "output_type": "stream",
     "text": [
      "fizz\n"
     ]
    }
   ],
   "source": [
    "3\n",
    "#to check whether the given number is divisible by 3 or not if print fizz. \n",
    "n=20\n",
    "if n%2==0:\n",
    "    print(\"fizz\")"
   ]
  },
  {
   "cell_type": "code",
   "execution_count": 12,
   "metadata": {},
   "outputs": [
    {
     "name": "stdout",
     "output_type": "stream",
     "text": [
      "['3', '0']\n"
     ]
    }
   ],
   "source": [
    "4\n",
    "#to check whether a given input is divisible by 3 or 5. If the condition is  satisfied, the number is converted to a list.\n",
    "#i/p:30 o/p:['3','0']\n",
    "n=30\n",
    "if n%2==0 and n%6==0:\n",
    "    print(list(str(n)))"
   ]
  },
  {
   "cell_type": "code",
   "execution_count": 13,
   "metadata": {},
   "outputs": [
    {
     "name": "stdout",
     "output_type": "stream",
     "text": [
      "given number a divisible by 5\n"
     ]
    }
   ],
   "source": [
    "5\n",
    "#to check whether a given number is multiple of 5 or not \n",
    "n=10\n",
    "if n%5==0:\n",
    "    print(\"given number a divisible by 5\")"
   ]
  },
  {
   "cell_type": "code",
   "execution_count": 14,
   "metadata": {},
   "outputs": [
    {
     "name": "stdout",
     "output_type": "stream",
     "text": [
      "0\n"
     ]
    }
   ],
   "source": [
    "6\n",
    "# to check whether the given input is 0 or not if 0 prints 0.\n",
    "n=0\n",
    "if n==0:\n",
    "    print(n)\n"
   ]
  },
  {
   "cell_type": "code",
   "execution_count": 15,
   "metadata": {},
   "outputs": [
    {
     "name": "stdout",
     "output_type": "stream",
     "text": [
      "enter the negative\n"
     ]
    }
   ],
   "source": [
    "7\n",
    "#  to check whether a number is negative. If negative, print a message negative. \n",
    "n=-6\n",
    "if n<0:\n",
    "    print(\"enter the negative\")"
   ]
  },
  {
   "cell_type": "code",
   "execution_count": 16,
   "metadata": {},
   "outputs": [
    {
     "name": "stdout",
     "output_type": "stream",
     "text": [
      "['1', '0']\n"
     ]
    }
   ],
   "source": [
    "8\n",
    "#to check whether a number is even or not. If even, store the value inside the list. \n",
    "n=10\n",
    "if n%2==0:\n",
    "    print(list(str(n)))"
   ]
  },
  {
   "cell_type": "code",
   "execution_count": 18,
   "metadata": {},
   "outputs": [
    {
     "name": "stdout",
     "output_type": "stream",
     "text": [
      "('1', '0')\n"
     ]
    }
   ],
   "source": [
    "9\n",
    "#to check whether a number is odd or not. If odd, store the value inside the tuple.\n",
    "n=10\n",
    "if n%2==0:\n",
    "    print(tuple(str(n)))"
   ]
  },
  {
   "cell_type": "code",
   "execution_count": 23,
   "metadata": {},
   "outputs": [
    {
     "name": "stdout",
     "output_type": "stream",
     "text": [
      "1679616\n"
     ]
    }
   ],
   "source": [
    "10\n",
    "#to check if the given number is even or not. if it is yes, to print the power of 4 in a given number. \n",
    "n=36\n",
    "if n%2==0:\n",
    "    print(n**4)"
   ]
  },
  {
   "cell_type": "code",
   "execution_count": null,
   "metadata": {},
   "outputs": [],
   "source": []
  }
 ],
 "metadata": {
  "kernelspec": {
   "display_name": "Python 3",
   "language": "python",
   "name": "python3"
  },
  "language_info": {
   "codemirror_mode": {
    "name": "ipython",
    "version": 3
   },
   "file_extension": ".py",
   "mimetype": "text/x-python",
   "name": "python",
   "nbconvert_exporter": "python",
   "pygments_lexer": "ipython3",
   "version": "3.11.4"
  },
  "orig_nbformat": 4
 },
 "nbformat": 4,
 "nbformat_minor": 2
}
