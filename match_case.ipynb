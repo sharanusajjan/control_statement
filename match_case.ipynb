{
 "cells": [
  {
   "cell_type": "code",
   "execution_count": 31,
   "metadata": {},
   "outputs": [
    {
     "name": "stdout",
     "output_type": "stream",
     "text": [
      "A grade\n"
     ]
    }
   ],
   "source": [
    "n=int(input())\n",
    "match n:\n",
    "    case 90:\n",
    "        print('A grade')\n",
    "    case 80:\n",
    "     print('b grade')\n",
    "    case 70:\n",
    "        print('c grade')\n",
    "    case _:\n",
    "        print('fail')\n",
    "    "
   ]
  },
  {
   "cell_type": "code",
   "execution_count": 29,
   "metadata": {},
   "outputs": [
    {
     "name": "stdout",
     "output_type": "stream",
     "text": [
      "C grade\n"
     ]
    }
   ],
   "source": [
    "n=int(input())\n",
    "match n:\n",
    "    case n if n>90:\n",
    "        print('A grade')\n",
    "    case n if n>80:\n",
    "     print('B grade')\n",
    "    case n if n>70:\n",
    "        print('C grade')\n",
    "    case _:\n",
    "        print('fail')"
   ]
  },
  {
   "cell_type": "code",
   "execution_count": 60,
   "metadata": {},
   "outputs": [
    {
     "name": "stdout",
     "output_type": "stream",
     "text": [
      "invaild\n"
     ]
    }
   ],
   "source": [
    "n=list[input()]\n",
    "match n:\n",
    "    case [10|100]:\n",
    "        print('hello')\n",
    "    case [20|200]:\n",
    "        print('world')\n",
    "    case [30|300]:\n",
    "        print('bye')\n",
    "    case _:\n",
    "        print('invaild')\n",
    "    \n",
    "\n",
    "\n",
    "\n",
    "\n",
    "\n",
    "     "
   ]
  },
  {
   "cell_type": "code",
   "execution_count": 1,
   "metadata": {},
   "outputs": [
    {
     "name": "stdout",
     "output_type": "stream",
     "text": [
      "hi\n"
     ]
    }
   ],
   "source": [
    "a='A'\n",
    "n=100\n",
    "match n:\n",
    "    case 100 if 'A'<=a<='Z':\n",
    "        print('hi')"
   ]
  },
  {
   "cell_type": "code",
   "execution_count": 4,
   "metadata": {},
   "outputs": [
    {
     "name": "stdout",
     "output_type": "stream",
     "text": [
      "True\n",
      "True\n",
      "True\n"
     ]
    }
   ],
   "source": [
    "#to check given char is alphabet or not if given char is alphabet, display true or else false\n",
    "ch='G'\n",
    "if 'A'<=ch<='Z' or 'a'<=ch<='z':\n",
    "    print(True)\n",
    "else:\n",
    "    print('False')\n",
    "\n",
    "var=[False,True]['A'<=ch<='z' or 'a'<=ch<='z']\n",
    "print(var)\n",
    "\n",
    "ch='G'\n",
    "print(True) if 'A'<=ch<='z' or 'a'<=ch<='z' else print(False)"
   ]
  },
  {
   "cell_type": "code",
   "execution_count": 15,
   "metadata": {},
   "outputs": [
    {
     "name": "stdout",
     "output_type": "stream",
     "text": [
      "('7', 55)\n"
     ]
    }
   ],
   "source": [
    "#wap to check given char is alphabet or not\n",
    "# if alphabet check whether if is upper case or not\n",
    "#if upper case convert to lower case & display it along with its ascii value. \n",
    "#if given char is lower case convert it into upper case & display given char & next chsar\n",
    "#if given char is not a alphabet display ascii value of given char with given char\n",
    "ch='7'\n",
    "if 'A'<=ch<='Z' or 'a'<=ch<='z':\n",
    "    if 'A'<ch<='Z':\n",
    "        res=chr(ord(ch)+32),ord(ch)\n",
    "        print(res)\n",
    "    else:\n",
    "        res=chr(ord(ch)-32),chr(ord(ch)+1)\n",
    "        print(res)\n",
    "else:\n",
    "    res=ch,ord(ch)   \n",
    "    print(res)     \n"
   ]
  },
  {
   "cell_type": "code",
   "execution_count": 16,
   "metadata": {},
   "outputs": [
    {
     "name": "stdout",
     "output_type": "stream",
     "text": [
      "d D E\n"
     ]
    }
   ],
   "source": [
    "ch='d'\n",
    "if 'A'<=ch<='Z' or 'a'<=ch<='z':\n",
    "    if 'A'<ch<='Z':\n",
    "        res=chr(ord(ch)+32)\n",
    "        print(res,ord(res))\n",
    "    else:\n",
    "        res=chr(ord(ch)-32)\n",
    "        print(ch,res,chr(ord(res)+1))\n",
    "else:\n",
    "    res=ch,ord(ch)   \n",
    "    print(res)    "
   ]
  },
  {
   "cell_type": "code",
   "execution_count": 27,
   "metadata": {},
   "outputs": [
    {
     "name": "stdout",
     "output_type": "stream",
     "text": [
      "('D', 'd')\n"
     ]
    }
   ],
   "source": [
    "ch=\"d\"\n",
    "res=[(chr(ord(ch)-32),ch),(chr(ord(ch)+32),ord((chr(ord(ch)+32))))]['A'<=ch<='Z']\n",
    "var=[(ch,ord(ch)),res]['A'<=ch<='Z' or 'a'<=ch<='z']\n",
    "print(res)"
   ]
  },
  {
   "cell_type": "code",
   "execution_count": null,
   "metadata": {},
   "outputs": [],
   "source": [
    "ch='8'\n",
    "var=[(ch,ord(ch)),[]]"
   ]
  },
  {
   "cell_type": "code",
   "execution_count": 21,
   "metadata": {},
   "outputs": [
    {
     "data": {
      "text/plain": [
       "[115, 104, 97, 114, 97, 110, 117]"
      ]
     },
     "execution_count": 21,
     "metadata": {},
     "output_type": "execute_result"
    }
   ],
   "source": [
    "ch='sharanu'\n",
    "list(bytes(ch,'utf-8'))"
   ]
  },
  {
   "cell_type": "code",
   "execution_count": null,
   "metadata": {},
   "outputs": [],
   "source": []
  },
  {
   "cell_type": "code",
   "execution_count": null,
   "metadata": {},
   "outputs": [],
   "source": []
  }
 ],
 "metadata": {
  "kernelspec": {
   "display_name": "Python 3",
   "language": "python",
   "name": "python3"
  },
  "language_info": {
   "codemirror_mode": {
    "name": "ipython",
    "version": 3
   },
   "file_extension": ".py",
   "mimetype": "text/x-python",
   "name": "python",
   "nbconvert_exporter": "python",
   "pygments_lexer": "ipython3",
   "version": "3.11.4"
  },
  "orig_nbformat": 4
 },
 "nbformat": 4,
 "nbformat_minor": 2
}
