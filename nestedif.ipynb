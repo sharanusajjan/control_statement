{
 "cells": [
  {
   "cell_type": "code",
   "execution_count": 6,
   "metadata": {},
   "outputs": [
    {
     "name": "stdout",
     "output_type": "stream",
     "text": [
      "{'p': 30, 'q': 40, 'r': 100}\n",
      "['p', 'q', 'r', 'a', 'b']\n"
     ]
    }
   ],
   "source": [
    "import copy \n",
    "l1={'p':30,'q':40}\n",
    "l2={'a':10,'b':20}\n",
    "if type(l1) in [list,tuple,set,dict,str] and type(l2) in [list,str,tuple,dict,set]:\n",
    "    if type(l1)==list and type(l2)==list:\n",
    "        l1+=l2\n",
    "        print(l1)\n",
    "    elif type(l1)==dict and type(l2)==dict:\n",
    "        l3=copy.deepcopy(l1)\n",
    "        l1['r']=100\n",
    "        print(l1)\n",
    "    if  type(l1)!=type(l2) and type(l1) not in [tuple,set] and type(l2) not in [tuple,set]:\n",
    "        l1+=l2\n",
    "        print(l1)\n",
    "    elif type(l1) in [tuple,set] and type(l2) in [tuple,set]:\n",
    "        l=set(l1)\n",
    "        l|=l2\n",
    "        print(l)\n",
    "    elif type(l1)==dict or type(l2)==dict:\n",
    "        p=list(l1)\n",
    "        q=list(l2)\n",
    "        p+=q\n",
    "        print(p)\n",
    "    elif type(l1) in [int,float] and type(l2) in [int,float]:\n",
    "        print(l1*l2)\n",
    "    elif type(11) in [bool,None] or type(l2) in [bool,None]:\n",
    "        print(str(11))\n",
    "        print(str(12))\n",
    "    elif type(l1)==complex and type(l2)==complex:\n",
    "        print(l1.imag)\n",
    "        print(l2.imag) \n",
    "        print(type(l1))\n",
    "        print(type(l2))\n",
    "    elif type(l1)==bytes and type(l2)==bytes:\n",
    "        l3=list(l1)\n",
    "        l4=list(l2)\n",
    "        print(l3)\n",
    "        print(l4)"
   ]
  },
  {
   "cell_type": "code",
   "execution_count": null,
   "metadata": {},
   "outputs": [],
   "source": []
  },
  {
   "cell_type": "code",
   "execution_count": null,
   "metadata": {},
   "outputs": [],
   "source": []
  }
 ],
 "metadata": {
  "kernelspec": {
   "display_name": "Python 3",
   "language": "python",
   "name": "python3"
  },
  "language_info": {
   "codemirror_mode": {
    "name": "ipython",
    "version": 3
   },
   "file_extension": ".py",
   "mimetype": "text/x-python",
   "name": "python",
   "nbconvert_exporter": "python",
   "pygments_lexer": "ipython3",
   "version": "3.11.4"
  },
  "orig_nbformat": 4
 },
 "nbformat": 4,
 "nbformat_minor": 2
}
